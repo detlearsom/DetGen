{
 "cells": [
  {
   "cell_type": "markdown",
   "metadata": {},
   "source": [
    "#### Generate Test Validation cases by modifying the pcap file:"
   ]
  },
  {
   "cell_type": "markdown",
   "metadata": {},
   "source": [
    "##### Test 2:"
   ]
  },
  {
   "cell_type": "code",
   "execution_count": 2,
   "metadata": {},
   "outputs": [],
   "source": [
    "from scapy.all import *\n",
    "\n",
    "packets = rdpcap('test_validation/test1.pcap')  # Read original pcap\n",
    "new_packets = []\n",
    "\n",
    "new_packet = packets[39].copy()  # Copy HTTP request packet\n",
    "new_packet[TCP].seq += 1         # Modify SYN number\n",
    "\n",
    "new_packets.append(new_packet)\n",
    "\n",
    "packets.extend(new_packets)  # Add new packets to list\n",
    "wrpcap('test_validation/test2.pcap', packets)  # Write all packets back to a pcap"
   ]
  },
  {
   "cell_type": "markdown",
   "metadata": {},
   "source": [
    "##### Test 3:"
   ]
  },
  {
   "cell_type": "code",
   "execution_count": 3,
   "metadata": {},
   "outputs": [],
   "source": [
    "from scapy.all import *\n",
    "\n",
    "packets = rdpcap('test_validation/test1.pcap')  # Read original pcap\n",
    "new_packets = []\n",
    "\n",
    "new_packet = packets[39].copy()  # Copy HTTP request packet\n",
    "new_packet[TCP].seq += 1         # Modify SYN number\n",
    "# reduce timestamp by 1\n",
    "new_packet.time = new_packet.time - 1 # modify timestamp\n",
    "\n",
    "\n",
    "new_packets.append(new_packet)\n",
    "\n",
    "packets.extend(new_packets)  # Add new packets to list\n",
    "wrpcap('test_validation/test3.pcap', packets)  # Write all packets back to a pcap"
   ]
  },
  {
   "cell_type": "markdown",
   "metadata": {},
   "source": [
    "##### Test 4:"
   ]
  },
  {
   "cell_type": "code",
   "execution_count": 4,
   "metadata": {},
   "outputs": [],
   "source": [
    "from scapy.all import *\n",
    "\n",
    "packets = rdpcap('test_validation/test1.pcap')  # Read original pcap\n",
    "\n",
    "packets[39].time += 1 \n",
    "\n",
    "wrpcap('test_validation/test4.pcap', packets)  # Write all packets back to a pcap"
   ]
  },
  {
   "cell_type": "markdown",
   "metadata": {},
   "source": [
    "##### Test 6:"
   ]
  }
 ],
 "metadata": {
  "kernelspec": {
   "display_name": "diss",
   "language": "python",
   "name": "python3"
  },
  "language_info": {
   "codemirror_mode": {
    "name": "ipython",
    "version": 3
   },
   "file_extension": ".py",
   "mimetype": "text/x-python",
   "name": "python",
   "nbconvert_exporter": "python",
   "pygments_lexer": "ipython3",
   "version": "3.9.18"
  }
 },
 "nbformat": 4,
 "nbformat_minor": 2
}
